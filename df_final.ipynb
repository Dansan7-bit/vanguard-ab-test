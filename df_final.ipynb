{
 "cells": [
  {
   "cell_type": "code",
   "execution_count": 2,
   "metadata": {},
   "outputs": [],
   "source": [
    "import pandas as pd"
   ]
  },
  {
   "cell_type": "code",
   "execution_count": 3,
   "metadata": {},
   "outputs": [
    {
     "data": {
      "text/html": [
       "<div>\n",
       "<style scoped>\n",
       "    .dataframe tbody tr th:only-of-type {\n",
       "        vertical-align: middle;\n",
       "    }\n",
       "\n",
       "    .dataframe tbody tr th {\n",
       "        vertical-align: top;\n",
       "    }\n",
       "\n",
       "    .dataframe thead th {\n",
       "        text-align: right;\n",
       "    }\n",
       "</style>\n",
       "<table border=\"1\" class=\"dataframe\">\n",
       "  <thead>\n",
       "    <tr style=\"text-align: right;\">\n",
       "      <th></th>\n",
       "      <th>client_id</th>\n",
       "      <th>visitor_id</th>\n",
       "      <th>visit_id</th>\n",
       "      <th>process_step</th>\n",
       "      <th>date_time</th>\n",
       "    </tr>\n",
       "  </thead>\n",
       "  <tbody>\n",
       "    <tr>\n",
       "      <th>0</th>\n",
       "      <td>9988021</td>\n",
       "      <td>580560515_7732621733</td>\n",
       "      <td>781255054_21935453173_531117</td>\n",
       "      <td>step_3</td>\n",
       "      <td>2017-04-17 15:27:07</td>\n",
       "    </tr>\n",
       "    <tr>\n",
       "      <th>1</th>\n",
       "      <td>9988021</td>\n",
       "      <td>580560515_7732621733</td>\n",
       "      <td>781255054_21935453173_531117</td>\n",
       "      <td>step_2</td>\n",
       "      <td>2017-04-17 15:26:51</td>\n",
       "    </tr>\n",
       "    <tr>\n",
       "      <th>2</th>\n",
       "      <td>9988021</td>\n",
       "      <td>580560515_7732621733</td>\n",
       "      <td>781255054_21935453173_531117</td>\n",
       "      <td>step_3</td>\n",
       "      <td>2017-04-17 15:19:22</td>\n",
       "    </tr>\n",
       "    <tr>\n",
       "      <th>3</th>\n",
       "      <td>9988021</td>\n",
       "      <td>580560515_7732621733</td>\n",
       "      <td>781255054_21935453173_531117</td>\n",
       "      <td>step_2</td>\n",
       "      <td>2017-04-17 15:19:13</td>\n",
       "    </tr>\n",
       "    <tr>\n",
       "      <th>4</th>\n",
       "      <td>9988021</td>\n",
       "      <td>580560515_7732621733</td>\n",
       "      <td>781255054_21935453173_531117</td>\n",
       "      <td>step_3</td>\n",
       "      <td>2017-04-17 15:18:04</td>\n",
       "    </tr>\n",
       "    <tr>\n",
       "      <th>...</th>\n",
       "      <td>...</td>\n",
       "      <td>...</td>\n",
       "      <td>...</td>\n",
       "      <td>...</td>\n",
       "      <td>...</td>\n",
       "    </tr>\n",
       "    <tr>\n",
       "      <th>343136</th>\n",
       "      <td>2443347</td>\n",
       "      <td>465784886_73090545671</td>\n",
       "      <td>136329900_10529659391_316129</td>\n",
       "      <td>confirm</td>\n",
       "      <td>2017-03-31 15:15:46</td>\n",
       "    </tr>\n",
       "    <tr>\n",
       "      <th>343137</th>\n",
       "      <td>2443347</td>\n",
       "      <td>465784886_73090545671</td>\n",
       "      <td>136329900_10529659391_316129</td>\n",
       "      <td>step_3</td>\n",
       "      <td>2017-03-31 15:14:53</td>\n",
       "    </tr>\n",
       "    <tr>\n",
       "      <th>343138</th>\n",
       "      <td>2443347</td>\n",
       "      <td>465784886_73090545671</td>\n",
       "      <td>136329900_10529659391_316129</td>\n",
       "      <td>step_2</td>\n",
       "      <td>2017-03-31 15:12:08</td>\n",
       "    </tr>\n",
       "    <tr>\n",
       "      <th>343139</th>\n",
       "      <td>2443347</td>\n",
       "      <td>465784886_73090545671</td>\n",
       "      <td>136329900_10529659391_316129</td>\n",
       "      <td>step_1</td>\n",
       "      <td>2017-03-31 15:11:37</td>\n",
       "    </tr>\n",
       "    <tr>\n",
       "      <th>343140</th>\n",
       "      <td>2443347</td>\n",
       "      <td>465784886_73090545671</td>\n",
       "      <td>136329900_10529659391_316129</td>\n",
       "      <td>start</td>\n",
       "      <td>2017-03-31 15:10:47</td>\n",
       "    </tr>\n",
       "  </tbody>\n",
       "</table>\n",
       "<p>343141 rows × 5 columns</p>\n",
       "</div>"
      ],
      "text/plain": [
       "        client_id             visitor_id                      visit_id  \\\n",
       "0         9988021   580560515_7732621733  781255054_21935453173_531117   \n",
       "1         9988021   580560515_7732621733  781255054_21935453173_531117   \n",
       "2         9988021   580560515_7732621733  781255054_21935453173_531117   \n",
       "3         9988021   580560515_7732621733  781255054_21935453173_531117   \n",
       "4         9988021   580560515_7732621733  781255054_21935453173_531117   \n",
       "...           ...                    ...                           ...   \n",
       "343136    2443347  465784886_73090545671  136329900_10529659391_316129   \n",
       "343137    2443347  465784886_73090545671  136329900_10529659391_316129   \n",
       "343138    2443347  465784886_73090545671  136329900_10529659391_316129   \n",
       "343139    2443347  465784886_73090545671  136329900_10529659391_316129   \n",
       "343140    2443347  465784886_73090545671  136329900_10529659391_316129   \n",
       "\n",
       "       process_step            date_time  \n",
       "0            step_3  2017-04-17 15:27:07  \n",
       "1            step_2  2017-04-17 15:26:51  \n",
       "2            step_3  2017-04-17 15:19:22  \n",
       "3            step_2  2017-04-17 15:19:13  \n",
       "4            step_3  2017-04-17 15:18:04  \n",
       "...             ...                  ...  \n",
       "343136      confirm  2017-03-31 15:15:46  \n",
       "343137       step_3  2017-03-31 15:14:53  \n",
       "343138       step_2  2017-03-31 15:12:08  \n",
       "343139       step_1  2017-03-31 15:11:37  \n",
       "343140        start  2017-03-31 15:10:47  \n",
       "\n",
       "[343141 rows x 5 columns]"
      ]
     },
     "execution_count": 3,
     "metadata": {},
     "output_type": "execute_result"
    }
   ],
   "source": [
    "url = '/Users/dansandler/Desktop/IronHack/Bootcamp/projects/df_final_web_data_pt_1.txt'\n",
    "df_final_web_data_pt_1 = pd.read_csv(url)\n",
    "df_final_web_data_pt_1"
   ]
  },
  {
   "cell_type": "code",
   "execution_count": 4,
   "metadata": {},
   "outputs": [
    {
     "data": {
      "text/html": [
       "<div>\n",
       "<style scoped>\n",
       "    .dataframe tbody tr th:only-of-type {\n",
       "        vertical-align: middle;\n",
       "    }\n",
       "\n",
       "    .dataframe tbody tr th {\n",
       "        vertical-align: top;\n",
       "    }\n",
       "\n",
       "    .dataframe thead th {\n",
       "        text-align: right;\n",
       "    }\n",
       "</style>\n",
       "<table border=\"1\" class=\"dataframe\">\n",
       "  <thead>\n",
       "    <tr style=\"text-align: right;\">\n",
       "      <th></th>\n",
       "      <th>client_id</th>\n",
       "      <th>visitor_id</th>\n",
       "      <th>visit_id</th>\n",
       "      <th>process_step</th>\n",
       "      <th>date_time</th>\n",
       "    </tr>\n",
       "  </thead>\n",
       "  <tbody>\n",
       "    <tr>\n",
       "      <th>0</th>\n",
       "      <td>763412</td>\n",
       "      <td>601952081_10457207388</td>\n",
       "      <td>397475557_40440946728_419634</td>\n",
       "      <td>confirm</td>\n",
       "      <td>2017-06-06 08:56:00</td>\n",
       "    </tr>\n",
       "    <tr>\n",
       "      <th>1</th>\n",
       "      <td>6019349</td>\n",
       "      <td>442094451_91531546617</td>\n",
       "      <td>154620534_35331068705_522317</td>\n",
       "      <td>confirm</td>\n",
       "      <td>2017-06-01 11:59:27</td>\n",
       "    </tr>\n",
       "    <tr>\n",
       "      <th>2</th>\n",
       "      <td>6019349</td>\n",
       "      <td>442094451_91531546617</td>\n",
       "      <td>154620534_35331068705_522317</td>\n",
       "      <td>step_3</td>\n",
       "      <td>2017-06-01 11:58:48</td>\n",
       "    </tr>\n",
       "    <tr>\n",
       "      <th>3</th>\n",
       "      <td>6019349</td>\n",
       "      <td>442094451_91531546617</td>\n",
       "      <td>154620534_35331068705_522317</td>\n",
       "      <td>step_2</td>\n",
       "      <td>2017-06-01 11:58:08</td>\n",
       "    </tr>\n",
       "    <tr>\n",
       "      <th>4</th>\n",
       "      <td>6019349</td>\n",
       "      <td>442094451_91531546617</td>\n",
       "      <td>154620534_35331068705_522317</td>\n",
       "      <td>step_1</td>\n",
       "      <td>2017-06-01 11:57:58</td>\n",
       "    </tr>\n",
       "    <tr>\n",
       "      <th>...</th>\n",
       "      <td>...</td>\n",
       "      <td>...</td>\n",
       "      <td>...</td>\n",
       "      <td>...</td>\n",
       "      <td>...</td>\n",
       "    </tr>\n",
       "    <tr>\n",
       "      <th>412259</th>\n",
       "      <td>9668240</td>\n",
       "      <td>388766751_9038881013</td>\n",
       "      <td>922267647_3096648104_968866</td>\n",
       "      <td>start</td>\n",
       "      <td>2017-05-24 18:46:10</td>\n",
       "    </tr>\n",
       "    <tr>\n",
       "      <th>412260</th>\n",
       "      <td>9668240</td>\n",
       "      <td>388766751_9038881013</td>\n",
       "      <td>922267647_3096648104_968866</td>\n",
       "      <td>start</td>\n",
       "      <td>2017-05-24 18:45:29</td>\n",
       "    </tr>\n",
       "    <tr>\n",
       "      <th>412261</th>\n",
       "      <td>9668240</td>\n",
       "      <td>388766751_9038881013</td>\n",
       "      <td>922267647_3096648104_968866</td>\n",
       "      <td>step_1</td>\n",
       "      <td>2017-05-24 18:44:51</td>\n",
       "    </tr>\n",
       "    <tr>\n",
       "      <th>412262</th>\n",
       "      <td>9668240</td>\n",
       "      <td>388766751_9038881013</td>\n",
       "      <td>922267647_3096648104_968866</td>\n",
       "      <td>start</td>\n",
       "      <td>2017-05-24 18:44:34</td>\n",
       "    </tr>\n",
       "    <tr>\n",
       "      <th>412263</th>\n",
       "      <td>674799</td>\n",
       "      <td>947159805_81558194550</td>\n",
       "      <td>86152093_47511127657_716022</td>\n",
       "      <td>start</td>\n",
       "      <td>2017-06-03 12:17:09</td>\n",
       "    </tr>\n",
       "  </tbody>\n",
       "</table>\n",
       "<p>412264 rows × 5 columns</p>\n",
       "</div>"
      ],
      "text/plain": [
       "        client_id             visitor_id                      visit_id  \\\n",
       "0          763412  601952081_10457207388  397475557_40440946728_419634   \n",
       "1         6019349  442094451_91531546617  154620534_35331068705_522317   \n",
       "2         6019349  442094451_91531546617  154620534_35331068705_522317   \n",
       "3         6019349  442094451_91531546617  154620534_35331068705_522317   \n",
       "4         6019349  442094451_91531546617  154620534_35331068705_522317   \n",
       "...           ...                    ...                           ...   \n",
       "412259    9668240   388766751_9038881013   922267647_3096648104_968866   \n",
       "412260    9668240   388766751_9038881013   922267647_3096648104_968866   \n",
       "412261    9668240   388766751_9038881013   922267647_3096648104_968866   \n",
       "412262    9668240   388766751_9038881013   922267647_3096648104_968866   \n",
       "412263     674799  947159805_81558194550   86152093_47511127657_716022   \n",
       "\n",
       "       process_step            date_time  \n",
       "0           confirm  2017-06-06 08:56:00  \n",
       "1           confirm  2017-06-01 11:59:27  \n",
       "2            step_3  2017-06-01 11:58:48  \n",
       "3            step_2  2017-06-01 11:58:08  \n",
       "4            step_1  2017-06-01 11:57:58  \n",
       "...             ...                  ...  \n",
       "412259        start  2017-05-24 18:46:10  \n",
       "412260        start  2017-05-24 18:45:29  \n",
       "412261       step_1  2017-05-24 18:44:51  \n",
       "412262        start  2017-05-24 18:44:34  \n",
       "412263        start  2017-06-03 12:17:09  \n",
       "\n",
       "[412264 rows x 5 columns]"
      ]
     },
     "execution_count": 4,
     "metadata": {},
     "output_type": "execute_result"
    }
   ],
   "source": [
    "url = '/Users/dansandler/Desktop/IronHack/Bootcamp/projects/df_final_web_data_pt_2.txt'\n",
    "df_final_web_data_pt_2 = pd.read_csv(url)\n",
    "df_final_web_data_pt_2"
   ]
  },
  {
   "cell_type": "markdown",
   "metadata": {},
   "source": [
    "# concat df_final_web_data_pt_1 with df_final_web_data_pt_2"
   ]
  },
  {
   "cell_type": "code",
   "execution_count": 5,
   "metadata": {},
   "outputs": [],
   "source": [
    "df_final_web_data = pd.concat([df_final_web_data_pt_1, df_final_web_data_pt_2], axis=0)"
   ]
  },
  {
   "cell_type": "code",
   "execution_count": 6,
   "metadata": {},
   "outputs": [
    {
     "data": {
      "text/plain": [
       "client_id       0\n",
       "visitor_id      0\n",
       "visit_id        0\n",
       "process_step    0\n",
       "date_time       0\n",
       "dtype: int64"
      ]
     },
     "execution_count": 6,
     "metadata": {},
     "output_type": "execute_result"
    }
   ],
   "source": [
    "df_final_web_data.isnull().sum()"
   ]
  },
  {
   "cell_type": "code",
   "execution_count": 7,
   "metadata": {},
   "outputs": [
    {
     "data": {
      "text/plain": [
       "(755405, 5)"
      ]
     },
     "execution_count": 7,
     "metadata": {},
     "output_type": "execute_result"
    }
   ],
   "source": [
    "df_final_web_data.shape"
   ]
  },
  {
   "cell_type": "code",
   "execution_count": 8,
   "metadata": {},
   "outputs": [
    {
     "data": {
      "text/html": [
       "<div>\n",
       "<style scoped>\n",
       "    .dataframe tbody tr th:only-of-type {\n",
       "        vertical-align: middle;\n",
       "    }\n",
       "\n",
       "    .dataframe tbody tr th {\n",
       "        vertical-align: top;\n",
       "    }\n",
       "\n",
       "    .dataframe thead th {\n",
       "        text-align: right;\n",
       "    }\n",
       "</style>\n",
       "<table border=\"1\" class=\"dataframe\">\n",
       "  <thead>\n",
       "    <tr style=\"text-align: right;\">\n",
       "      <th></th>\n",
       "      <th>client_id</th>\n",
       "      <th>visitor_id</th>\n",
       "      <th>visit_id</th>\n",
       "      <th>process_step</th>\n",
       "      <th>date_time</th>\n",
       "    </tr>\n",
       "  </thead>\n",
       "  <tbody>\n",
       "    <tr>\n",
       "      <th>365</th>\n",
       "      <td>9358626</td>\n",
       "      <td>148475529_63668223960</td>\n",
       "      <td>223297395_36250329195_832161</td>\n",
       "      <td>start</td>\n",
       "      <td>2017-04-28 12:27:28</td>\n",
       "    </tr>\n",
       "    <tr>\n",
       "      <th>368</th>\n",
       "      <td>5376894</td>\n",
       "      <td>622509328_44408201172</td>\n",
       "      <td>688984457_43441834354_912755</td>\n",
       "      <td>start</td>\n",
       "      <td>2017-04-28 14:20:01</td>\n",
       "    </tr>\n",
       "    <tr>\n",
       "      <th>383</th>\n",
       "      <td>438567</td>\n",
       "      <td>923318467_50708963627</td>\n",
       "      <td>330543236_29863358529_771432</td>\n",
       "      <td>start</td>\n",
       "      <td>2017-04-28 02:52:29</td>\n",
       "    </tr>\n",
       "    <tr>\n",
       "      <th>785</th>\n",
       "      <td>1423857</td>\n",
       "      <td>716830992_81930238382</td>\n",
       "      <td>568819166_80596727019_75889</td>\n",
       "      <td>confirm</td>\n",
       "      <td>2017-04-10 22:44:58</td>\n",
       "    </tr>\n",
       "    <tr>\n",
       "      <th>1816</th>\n",
       "      <td>372523</td>\n",
       "      <td>730241475_25771921122</td>\n",
       "      <td>25331354_74479847014_854987</td>\n",
       "      <td>start</td>\n",
       "      <td>2017-04-27 10:51:26</td>\n",
       "    </tr>\n",
       "    <tr>\n",
       "      <th>...</th>\n",
       "      <td>...</td>\n",
       "      <td>...</td>\n",
       "      <td>...</td>\n",
       "      <td>...</td>\n",
       "      <td>...</td>\n",
       "    </tr>\n",
       "    <tr>\n",
       "      <th>412120</th>\n",
       "      <td>1672289</td>\n",
       "      <td>658797407_91003097342</td>\n",
       "      <td>430110748_90347503221_597628</td>\n",
       "      <td>start</td>\n",
       "      <td>2017-05-01 19:28:53</td>\n",
       "    </tr>\n",
       "    <tr>\n",
       "      <th>412163</th>\n",
       "      <td>4408245</td>\n",
       "      <td>14058946_73585431797</td>\n",
       "      <td>994148957_84373994761_991865</td>\n",
       "      <td>start</td>\n",
       "      <td>2017-06-06 09:17:23</td>\n",
       "    </tr>\n",
       "    <tr>\n",
       "      <th>412165</th>\n",
       "      <td>4408245</td>\n",
       "      <td>14058946_73585431797</td>\n",
       "      <td>994148957_84373994761_991865</td>\n",
       "      <td>start</td>\n",
       "      <td>2017-06-06 09:09:44</td>\n",
       "    </tr>\n",
       "    <tr>\n",
       "      <th>412167</th>\n",
       "      <td>4408245</td>\n",
       "      <td>14058946_73585431797</td>\n",
       "      <td>994148957_84373994761_991865</td>\n",
       "      <td>start</td>\n",
       "      <td>2017-06-06 08:51:16</td>\n",
       "    </tr>\n",
       "    <tr>\n",
       "      <th>412217</th>\n",
       "      <td>3897324</td>\n",
       "      <td>80177429_24869309091</td>\n",
       "      <td>149796456_64325617570_112561</td>\n",
       "      <td>start</td>\n",
       "      <td>2017-05-04 08:21:30</td>\n",
       "    </tr>\n",
       "  </tbody>\n",
       "</table>\n",
       "<p>10764 rows × 5 columns</p>\n",
       "</div>"
      ],
      "text/plain": [
       "        client_id             visitor_id                      visit_id  \\\n",
       "365       9358626  148475529_63668223960  223297395_36250329195_832161   \n",
       "368       5376894  622509328_44408201172  688984457_43441834354_912755   \n",
       "383        438567  923318467_50708963627  330543236_29863358529_771432   \n",
       "785       1423857  716830992_81930238382   568819166_80596727019_75889   \n",
       "1816       372523  730241475_25771921122   25331354_74479847014_854987   \n",
       "...           ...                    ...                           ...   \n",
       "412120    1672289  658797407_91003097342  430110748_90347503221_597628   \n",
       "412163    4408245   14058946_73585431797  994148957_84373994761_991865   \n",
       "412165    4408245   14058946_73585431797  994148957_84373994761_991865   \n",
       "412167    4408245   14058946_73585431797  994148957_84373994761_991865   \n",
       "412217    3897324   80177429_24869309091  149796456_64325617570_112561   \n",
       "\n",
       "       process_step            date_time  \n",
       "365           start  2017-04-28 12:27:28  \n",
       "368           start  2017-04-28 14:20:01  \n",
       "383           start  2017-04-28 02:52:29  \n",
       "785         confirm  2017-04-10 22:44:58  \n",
       "1816          start  2017-04-27 10:51:26  \n",
       "...             ...                  ...  \n",
       "412120        start  2017-05-01 19:28:53  \n",
       "412163        start  2017-06-06 09:17:23  \n",
       "412165        start  2017-06-06 09:09:44  \n",
       "412167        start  2017-06-06 08:51:16  \n",
       "412217        start  2017-05-04 08:21:30  \n",
       "\n",
       "[10764 rows x 5 columns]"
      ]
     },
     "execution_count": 8,
     "metadata": {},
     "output_type": "execute_result"
    }
   ],
   "source": [
    "duplicate_rows = df_final_web_data[df_final_web_data.duplicated()]\n",
    "duplicate_rows"
   ]
  },
  {
   "cell_type": "code",
   "execution_count": 9,
   "metadata": {},
   "outputs": [],
   "source": [
    "df_final_web_data.drop_duplicates(inplace=True)"
   ]
  },
  {
   "cell_type": "code",
   "execution_count": 10,
   "metadata": {},
   "outputs": [
    {
     "data": {
      "text/plain": [
       "(744641, 5)"
      ]
     },
     "execution_count": 10,
     "metadata": {},
     "output_type": "execute_result"
    }
   ],
   "source": [
    "df_final_web_data.shape"
   ]
  },
  {
   "cell_type": "code",
   "execution_count": 11,
   "metadata": {},
   "outputs": [
    {
     "data": {
      "text/plain": [
       "client_id        int64\n",
       "visitor_id      object\n",
       "visit_id        object\n",
       "process_step    object\n",
       "date_time       object\n",
       "dtype: object"
      ]
     },
     "execution_count": 11,
     "metadata": {},
     "output_type": "execute_result"
    }
   ],
   "source": [
    "df_final_web_data.dtypes"
   ]
  },
  {
   "cell_type": "code",
   "execution_count": 12,
   "metadata": {},
   "outputs": [],
   "source": [
    "df_final_web_data['date_time'] = pd.to_datetime(df_final_web_data['date_time'])"
   ]
  },
  {
   "cell_type": "code",
   "execution_count": 13,
   "metadata": {},
   "outputs": [
    {
     "data": {
      "text/plain": [
       "client_id                int64\n",
       "visitor_id              object\n",
       "visit_id                object\n",
       "process_step            object\n",
       "date_time       datetime64[ns]\n",
       "dtype: object"
      ]
     },
     "execution_count": 13,
     "metadata": {},
     "output_type": "execute_result"
    }
   ],
   "source": [
    "df_final_web_data.dtypes"
   ]
  },
  {
   "cell_type": "markdown",
   "metadata": {},
   "source": [
    "## Merging final web data with final_experiment_clients"
   ]
  },
  {
   "cell_type": "code",
   "execution_count": 14,
   "metadata": {},
   "outputs": [],
   "source": [
    "url_2 = '/Users/dansandler/Desktop/IronHack/Bootcamp/projects/df_final_experiment_clients.txt'\n",
    "df_final_experiment_clients = pd.read_csv(url_2)"
   ]
  },
  {
   "cell_type": "code",
   "execution_count": 15,
   "metadata": {},
   "outputs": [
    {
     "data": {
      "text/html": [
       "<div>\n",
       "<style scoped>\n",
       "    .dataframe tbody tr th:only-of-type {\n",
       "        vertical-align: middle;\n",
       "    }\n",
       "\n",
       "    .dataframe tbody tr th {\n",
       "        vertical-align: top;\n",
       "    }\n",
       "\n",
       "    .dataframe thead th {\n",
       "        text-align: right;\n",
       "    }\n",
       "</style>\n",
       "<table border=\"1\" class=\"dataframe\">\n",
       "  <thead>\n",
       "    <tr style=\"text-align: right;\">\n",
       "      <th></th>\n",
       "      <th>client_id</th>\n",
       "      <th>visitor_id</th>\n",
       "      <th>visit_id</th>\n",
       "      <th>process_step</th>\n",
       "      <th>date_time</th>\n",
       "      <th>Variation</th>\n",
       "    </tr>\n",
       "  </thead>\n",
       "  <tbody>\n",
       "    <tr>\n",
       "      <th>0</th>\n",
       "      <td>9988021</td>\n",
       "      <td>580560515_7732621733</td>\n",
       "      <td>781255054_21935453173_531117</td>\n",
       "      <td>step_3</td>\n",
       "      <td>2017-04-17 15:27:07</td>\n",
       "      <td>Test</td>\n",
       "    </tr>\n",
       "    <tr>\n",
       "      <th>1</th>\n",
       "      <td>9988021</td>\n",
       "      <td>580560515_7732621733</td>\n",
       "      <td>781255054_21935453173_531117</td>\n",
       "      <td>step_2</td>\n",
       "      <td>2017-04-17 15:26:51</td>\n",
       "      <td>Test</td>\n",
       "    </tr>\n",
       "    <tr>\n",
       "      <th>2</th>\n",
       "      <td>9988021</td>\n",
       "      <td>580560515_7732621733</td>\n",
       "      <td>781255054_21935453173_531117</td>\n",
       "      <td>step_3</td>\n",
       "      <td>2017-04-17 15:19:22</td>\n",
       "      <td>Test</td>\n",
       "    </tr>\n",
       "    <tr>\n",
       "      <th>3</th>\n",
       "      <td>9988021</td>\n",
       "      <td>580560515_7732621733</td>\n",
       "      <td>781255054_21935453173_531117</td>\n",
       "      <td>step_2</td>\n",
       "      <td>2017-04-17 15:19:13</td>\n",
       "      <td>Test</td>\n",
       "    </tr>\n",
       "    <tr>\n",
       "      <th>4</th>\n",
       "      <td>9988021</td>\n",
       "      <td>580560515_7732621733</td>\n",
       "      <td>781255054_21935453173_531117</td>\n",
       "      <td>step_3</td>\n",
       "      <td>2017-04-17 15:18:04</td>\n",
       "      <td>Test</td>\n",
       "    </tr>\n",
       "    <tr>\n",
       "      <th>...</th>\n",
       "      <td>...</td>\n",
       "      <td>...</td>\n",
       "      <td>...</td>\n",
       "      <td>...</td>\n",
       "      <td>...</td>\n",
       "      <td>...</td>\n",
       "    </tr>\n",
       "    <tr>\n",
       "      <th>443892</th>\n",
       "      <td>9895983</td>\n",
       "      <td>473024645_56027518531</td>\n",
       "      <td>498981662_93503779869_272484</td>\n",
       "      <td>step_3</td>\n",
       "      <td>2017-06-15 19:52:09</td>\n",
       "      <td>NaN</td>\n",
       "    </tr>\n",
       "    <tr>\n",
       "      <th>443893</th>\n",
       "      <td>9895983</td>\n",
       "      <td>473024645_56027518531</td>\n",
       "      <td>498981662_93503779869_272484</td>\n",
       "      <td>step_2</td>\n",
       "      <td>2017-06-15 19:50:37</td>\n",
       "      <td>NaN</td>\n",
       "    </tr>\n",
       "    <tr>\n",
       "      <th>443894</th>\n",
       "      <td>9895983</td>\n",
       "      <td>473024645_56027518531</td>\n",
       "      <td>498981662_93503779869_272484</td>\n",
       "      <td>step_1</td>\n",
       "      <td>2017-06-15 19:50:05</td>\n",
       "      <td>NaN</td>\n",
       "    </tr>\n",
       "    <tr>\n",
       "      <th>443895</th>\n",
       "      <td>9895983</td>\n",
       "      <td>473024645_56027518531</td>\n",
       "      <td>498981662_93503779869_272484</td>\n",
       "      <td>start</td>\n",
       "      <td>2017-06-15 19:50:00</td>\n",
       "      <td>NaN</td>\n",
       "    </tr>\n",
       "    <tr>\n",
       "      <th>443896</th>\n",
       "      <td>9895983</td>\n",
       "      <td>473024645_56027518531</td>\n",
       "      <td>498981662_93503779869_272484</td>\n",
       "      <td>start</td>\n",
       "      <td>2017-06-15 19:44:05</td>\n",
       "      <td>NaN</td>\n",
       "    </tr>\n",
       "  </tbody>\n",
       "</table>\n",
       "<p>443897 rows × 6 columns</p>\n",
       "</div>"
      ],
      "text/plain": [
       "        client_id             visitor_id                      visit_id  \\\n",
       "0         9988021   580560515_7732621733  781255054_21935453173_531117   \n",
       "1         9988021   580560515_7732621733  781255054_21935453173_531117   \n",
       "2         9988021   580560515_7732621733  781255054_21935453173_531117   \n",
       "3         9988021   580560515_7732621733  781255054_21935453173_531117   \n",
       "4         9988021   580560515_7732621733  781255054_21935453173_531117   \n",
       "...           ...                    ...                           ...   \n",
       "443892    9895983  473024645_56027518531  498981662_93503779869_272484   \n",
       "443893    9895983  473024645_56027518531  498981662_93503779869_272484   \n",
       "443894    9895983  473024645_56027518531  498981662_93503779869_272484   \n",
       "443895    9895983  473024645_56027518531  498981662_93503779869_272484   \n",
       "443896    9895983  473024645_56027518531  498981662_93503779869_272484   \n",
       "\n",
       "       process_step           date_time Variation  \n",
       "0            step_3 2017-04-17 15:27:07      Test  \n",
       "1            step_2 2017-04-17 15:26:51      Test  \n",
       "2            step_3 2017-04-17 15:19:22      Test  \n",
       "3            step_2 2017-04-17 15:19:13      Test  \n",
       "4            step_3 2017-04-17 15:18:04      Test  \n",
       "...             ...                 ...       ...  \n",
       "443892       step_3 2017-06-15 19:52:09       NaN  \n",
       "443893       step_2 2017-06-15 19:50:37       NaN  \n",
       "443894       step_1 2017-06-15 19:50:05       NaN  \n",
       "443895        start 2017-06-15 19:50:00       NaN  \n",
       "443896        start 2017-06-15 19:44:05       NaN  \n",
       "\n",
       "[443897 rows x 6 columns]"
      ]
     },
     "execution_count": 15,
     "metadata": {},
     "output_type": "execute_result"
    }
   ],
   "source": [
    "df_merged = pd.merge(df_final_web_data, df_final_experiment_clients, on='client_id', how='inner')\n",
    "df_merged"
   ]
  },
  {
   "cell_type": "code",
   "execution_count": 16,
   "metadata": {},
   "outputs": [
    {
     "data": {
      "text/plain": [
       "client_id            0\n",
       "visitor_id           0\n",
       "visit_id             0\n",
       "process_step         0\n",
       "date_time            0\n",
       "Variation       126662\n",
       "dtype: int64"
      ]
     },
     "execution_count": 16,
     "metadata": {},
     "output_type": "execute_result"
    }
   ],
   "source": [
    "df_merged.isnull().sum()"
   ]
  },
  {
   "cell_type": "code",
   "execution_count": 17,
   "metadata": {},
   "outputs": [],
   "source": [
    "df_merged.dropna(inplace=True)"
   ]
  },
  {
   "cell_type": "code",
   "execution_count": 18,
   "metadata": {},
   "outputs": [
    {
     "data": {
      "text/plain": [
       "client_id       0\n",
       "visitor_id      0\n",
       "visit_id        0\n",
       "process_step    0\n",
       "date_time       0\n",
       "Variation       0\n",
       "dtype: int64"
      ]
     },
     "execution_count": 18,
     "metadata": {},
     "output_type": "execute_result"
    }
   ],
   "source": [
    "df_merged.isnull().sum()"
   ]
  },
  {
   "cell_type": "code",
   "execution_count": 19,
   "metadata": {},
   "outputs": [
    {
     "data": {
      "text/plain": [
       "client_id                int64\n",
       "visitor_id              object\n",
       "visit_id                object\n",
       "process_step            object\n",
       "date_time       datetime64[ns]\n",
       "Variation               object\n",
       "dtype: object"
      ]
     },
     "execution_count": 19,
     "metadata": {},
     "output_type": "execute_result"
    }
   ],
   "source": [
    "df_merged.dtypes"
   ]
  },
  {
   "cell_type": "code",
   "execution_count": 20,
   "metadata": {},
   "outputs": [
    {
     "data": {
      "text/plain": [
       "array(['Test', 'Control'], dtype=object)"
      ]
     },
     "execution_count": 20,
     "metadata": {},
     "output_type": "execute_result"
    }
   ],
   "source": [
    "df_merged.Variation.unique()"
   ]
  },
  {
   "cell_type": "markdown",
   "metadata": {},
   "source": [
    "## Divide dataframe to 'Test' and 'Control'"
   ]
  },
  {
   "cell_type": "code",
   "execution_count": 21,
   "metadata": {},
   "outputs": [],
   "source": [
    "df_test = df_merged[df_merged['Variation'] == 'Test']\n",
    "df_control = df_merged[df_merged['Variation'] == 'Control']"
   ]
  },
  {
   "cell_type": "markdown",
   "metadata": {},
   "source": [
    "## Completion Rate: The proportion of users who reach the final ‘confirm’ step."
   ]
  },
  {
   "cell_type": "code",
   "execution_count": 22,
   "metadata": {},
   "outputs": [
    {
     "data": {
      "text/plain": [
       "0.586"
      ]
     },
     "execution_count": 22,
     "metadata": {},
     "output_type": "execute_result"
    }
   ],
   "source": [
    "df_grouped_test = df_test.groupby(['client_id', 'visitor_id', 'visit_id'])['process_step'].apply(lambda x: 'confirm' in x.values)\n",
    "\n",
    "proportion_confirm_test = round(df_grouped_test.mean(),3)\n",
    "\n",
    "proportion_confirm_test"
   ]
  },
  {
   "cell_type": "code",
   "execution_count": 23,
   "metadata": {},
   "outputs": [
    {
     "data": {
      "text/plain": [
       "0.499"
      ]
     },
     "execution_count": 23,
     "metadata": {},
     "output_type": "execute_result"
    }
   ],
   "source": [
    "df_grouped_control = df_control.groupby(['client_id', 'visitor_id', 'visit_id'])['process_step'].apply(lambda x: 'confirm' in x.values)\n",
    "\n",
    "proportion_confirm_control = round(df_grouped_control.mean(),3)\n",
    "\n",
    "proportion_confirm_control"
   ]
  },
  {
   "cell_type": "markdown",
   "metadata": {},
   "source": [
    "## Time Spent on Each Step: The average duration users spend on each step."
   ]
  },
  {
   "cell_type": "markdown",
   "metadata": {},
   "source": [
    "### Test"
   ]
  },
  {
   "cell_type": "code",
   "execution_count": 24,
   "metadata": {},
   "outputs": [],
   "source": [
    "# Sort by client_id, visitor_id, visit_id, and date_time\n",
    "df_test = df_test.sort_values(by=['client_id', 'visitor_id', 'visit_id', 'date_time'])"
   ]
  },
  {
   "cell_type": "code",
   "execution_count": 25,
   "metadata": {},
   "outputs": [],
   "source": [
    "# Calculate the time spent between steps\n",
    "df_test['next_date_time'] = df_test.groupby(['client_id', 'visitor_id', 'visit_id'])['date_time'].shift(-1)\n",
    "df_test['time_spent'] = (df_test['next_date_time'] - df_test['date_time']).dt.total_seconds()"
   ]
  },
  {
   "cell_type": "code",
   "execution_count": 26,
   "metadata": {},
   "outputs": [],
   "source": [
    "# Remove rows where time_spent is NaN (last step in each session)\n",
    "df_time_spent = df_test.dropna(subset=['time_spent'])"
   ]
  },
  {
   "cell_type": "code",
   "execution_count": 27,
   "metadata": {},
   "outputs": [],
   "source": [
    "# Calculate the average time spent on each process_step\n",
    "avg_time_per_step = df_time_spent.groupby('process_step')['time_spent'].mean().round(2)"
   ]
  },
  {
   "cell_type": "code",
   "execution_count": 28,
   "metadata": {},
   "outputs": [
    {
     "data": {
      "text/plain": [
       "process_step\n",
       "confirm    243.69\n",
       "start       61.47\n",
       "step_1      60.68\n",
       "step_2      88.85\n",
       "step_3     129.64\n",
       "Name: time_spent, dtype: float64"
      ]
     },
     "execution_count": 28,
     "metadata": {},
     "output_type": "execute_result"
    }
   ],
   "source": [
    "avg_time_per_step"
   ]
  },
  {
   "cell_type": "markdown",
   "metadata": {},
   "source": [
    "### Control"
   ]
  },
  {
   "cell_type": "code",
   "execution_count": 29,
   "metadata": {},
   "outputs": [],
   "source": [
    "# Sort by client_id, visitor_id, visit_id, and date_time\n",
    "df_control = df_control.sort_values(by=['client_id', 'visitor_id', 'visit_id', 'date_time'])"
   ]
  },
  {
   "cell_type": "code",
   "execution_count": 30,
   "metadata": {},
   "outputs": [],
   "source": [
    "# Calculate the time spent between steps\n",
    "df_control['next_date_time'] = df_control.groupby(['client_id', 'visitor_id', 'visit_id'])['date_time'].shift(-1)\n",
    "df_control['time_spent'] = (df_control['next_date_time'] - df_control['date_time']).dt.total_seconds()"
   ]
  },
  {
   "cell_type": "code",
   "execution_count": 31,
   "metadata": {},
   "outputs": [],
   "source": [
    "# Remove rows where time_spent is NaN (last step in each session)\n",
    "df_time_spent = df_control.dropna(subset=['time_spent'])"
   ]
  },
  {
   "cell_type": "code",
   "execution_count": 32,
   "metadata": {},
   "outputs": [],
   "source": [
    "# Calculate the average time spent on each process_step\n",
    "avg_time_per_step = df_time_spent.groupby('process_step')['time_spent'].mean().round(2)"
   ]
  },
  {
   "cell_type": "code",
   "execution_count": 33,
   "metadata": {},
   "outputs": [
    {
     "data": {
      "text/plain": [
       "process_step\n",
       "confirm    168.73\n",
       "start       66.83\n",
       "step_1      50.47\n",
       "step_2      92.00\n",
       "step_3     137.14\n",
       "Name: time_spent, dtype: float64"
      ]
     },
     "execution_count": 33,
     "metadata": {},
     "output_type": "execute_result"
    }
   ],
   "source": [
    "avg_time_per_step"
   ]
  },
  {
   "cell_type": "markdown",
   "metadata": {},
   "source": [
    "## Error Rates: If there’s a step where users go back to a previous step, it may indicate confusion or an error. You should consider moving from a later step to an earlier one as an error."
   ]
  },
  {
   "cell_type": "markdown",
   "metadata": {},
   "source": [
    "### Test"
   ]
  },
  {
   "cell_type": "code",
   "execution_count": 34,
   "metadata": {},
   "outputs": [],
   "source": [
    "df_test_sort = df_test.sort_values(by=['client_id', 'visitor_id', 'visit_id', 'date_time'])"
   ]
  },
  {
   "cell_type": "code",
   "execution_count": 35,
   "metadata": {},
   "outputs": [],
   "source": [
    "step_order = {'start': 0, 'step_1': 1, 'step_2': 2, 'step_3': 3, 'confirm': 4}"
   ]
  },
  {
   "cell_type": "code",
   "execution_count": 36,
   "metadata": {},
   "outputs": [],
   "source": [
    "df_test_sort['step_order'] = df_test_sort['process_step'].map(step_order)"
   ]
  },
  {
   "cell_type": "code",
   "execution_count": 37,
   "metadata": {},
   "outputs": [],
   "source": [
    "df_test_sort['error'] = df_test_sort.groupby(['client_id', 'visitor_id', 'visit_id'])['step_order'].diff().apply(lambda x: x < 0)"
   ]
  },
  {
   "cell_type": "code",
   "execution_count": 38,
   "metadata": {},
   "outputs": [],
   "source": [
    "error_rate = df_test_sort[df_test_sort['error']].groupby('process_step').size() / df_test_sort.groupby('process_step').size()"
   ]
  },
  {
   "cell_type": "code",
   "execution_count": 39,
   "metadata": {},
   "outputs": [
    {
     "name": "stdout",
     "output_type": "stream",
     "text": [
      "Error rate for each step:\n",
      "process_step\n",
      "confirm         NaN\n",
      "start      0.188514\n",
      "step_1     0.088269\n",
      "step_2     0.073886\n",
      "step_3     0.000854\n",
      "dtype: float64\n"
     ]
    }
   ],
   "source": [
    "print(\"Error rate for each step:\")\n",
    "print(error_rate)"
   ]
  },
  {
   "cell_type": "markdown",
   "metadata": {},
   "source": [
    "### Control"
   ]
  },
  {
   "cell_type": "code",
   "execution_count": 40,
   "metadata": {},
   "outputs": [],
   "source": [
    "df_control_sort = df_control.sort_values(by=['client_id', 'visitor_id', 'visit_id', 'date_time'])"
   ]
  },
  {
   "cell_type": "code",
   "execution_count": 41,
   "metadata": {},
   "outputs": [],
   "source": [
    "step_order = {'start': 0, 'step_1': 1, 'step_2': 2, 'step_3': 3, 'confirm': 4}"
   ]
  },
  {
   "cell_type": "code",
   "execution_count": 42,
   "metadata": {},
   "outputs": [],
   "source": [
    "df_control_sort['step_order'] = df_control_sort['process_step'].map(step_order)"
   ]
  },
  {
   "cell_type": "code",
   "execution_count": 43,
   "metadata": {},
   "outputs": [],
   "source": [
    "df_control_sort['error'] = df_control_sort.groupby(['client_id', 'visitor_id', 'visit_id'])['step_order'].diff().apply(lambda x: x < 0)"
   ]
  },
  {
   "cell_type": "code",
   "execution_count": 44,
   "metadata": {},
   "outputs": [],
   "source": [
    "error_rate = df_control_sort[df_control_sort['error']].groupby('process_step').size() / df_control_sort.groupby('process_step').size()"
   ]
  },
  {
   "cell_type": "code",
   "execution_count": 45,
   "metadata": {},
   "outputs": [
    {
     "name": "stdout",
     "output_type": "stream",
     "text": [
      "Error rate for each step:\n",
      "process_step\n",
      "confirm         NaN\n",
      "start      0.106060\n",
      "step_1     0.077952\n",
      "step_2     0.091724\n",
      "step_3     0.004488\n",
      "dtype: float64\n"
     ]
    }
   ],
   "source": [
    "print(\"Error rate for each step:\")\n",
    "print(error_rate)"
   ]
  },
  {
   "cell_type": "markdown",
   "metadata": {},
   "source": [
    "# Hypothesis Testing"
   ]
  },
  {
   "cell_type": "markdown",
   "metadata": {},
   "source": [
    "### Completion Rate"
   ]
  },
  {
   "cell_type": "code",
   "execution_count": 46,
   "metadata": {},
   "outputs": [],
   "source": [
    "## H0: There is no difference in the completion rate between the Test and Control groups.\n",
    "\n",
    "## H1: There is a difference in the completion rate between the Test and Control groups."
   ]
  },
  {
   "cell_type": "code",
   "execution_count": 47,
   "metadata": {},
   "outputs": [
    {
     "name": "stdout",
     "output_type": "stream",
     "text": [
      "     Group  Completed  Not Completed\n",
      "0     Test      25600         151099\n",
      "1  Control      17336         123200\n",
      "Chi-square statistic: 309.66974856397945\n",
      "P-value: 2.5773171619152373e-69\n",
      "Reject the null hypothesis: There is a significant difference in completion rates between the Test and Control groups.\n"
     ]
    }
   ],
   "source": [
    "import pandas as pd\n",
    "from scipy.stats import chi2_contingency\n",
    "\n",
    "# Calculate the number of completed and not completed steps for both groups\n",
    "completed_test = sum(df_test['process_step'] == 'confirm')\n",
    "not_completed_test = len(df_test) - completed_test\n",
    "completed_control = sum(df_control['process_step'] == 'confirm')\n",
    "not_completed_control = len(df_control) - completed_control\n",
    "\n",
    "# Create the contingency table\n",
    "data = {\n",
    "    'Group': ['Test', 'Control'],\n",
    "    'Completed': [completed_test, completed_control],\n",
    "    'Not Completed': [not_completed_test, not_completed_control]\n",
    "}\n",
    "\n",
    "df_completion = pd.DataFrame(data)\n",
    "\n",
    "# Display the contingency table\n",
    "print(df_completion)\n",
    "\n",
    "# Contingency table as an array\n",
    "contingency_table = df_completion[['Completed', 'Not Completed']].values\n",
    "\n",
    "# Perform the chi-square test\n",
    "chi2, p, dof, expected = chi2_contingency(contingency_table)\n",
    "\n",
    "# Significance level\n",
    "alpha = 0.05\n",
    "\n",
    "# Print results\n",
    "print(f\"Chi-square statistic: {chi2}\")\n",
    "print(f\"P-value: {p}\")\n",
    "\n",
    "# Conclusion\n",
    "if p < alpha:\n",
    "    print(\"Reject the null hypothesis: There is a significant difference in completion rates between the Test and Control groups.\")\n",
    "else:\n",
    "    print(\"Fail to reject the null hypothesis: There is no significant difference in completion rates between the Test and Control groups.\")\n"
   ]
  },
  {
   "cell_type": "markdown",
   "metadata": {},
   "source": [
    "### Completion Rate with a Cost-Effectiveness Threshold"
   ]
  },
  {
   "cell_type": "code",
   "execution_count": 48,
   "metadata": {},
   "outputs": [
    {
     "name": "stdout",
     "output_type": "stream",
     "text": [
      "Completion rate (Test group): 14.49%\n",
      "Completion rate (Control group): 12.34%\n",
      "Percentage increase in completion rate: 17.45%\n",
      "The increase in completion rate meets or exceeds the 5.0% threshold. The new design is cost-effective.\n"
     ]
    }
   ],
   "source": [
    "total_test = len(df_test)\n",
    "total_control = len(df_control)\n",
    "\n",
    "# Calculate completion rates\n",
    "completion_rate_test = completed_test / total_test\n",
    "completion_rate_control = completed_control / total_control\n",
    "\n",
    "# Calculate the percentage increase in completion rate\n",
    "increase_percentage = ((completion_rate_test - completion_rate_control) / completion_rate_control) * 100\n",
    "\n",
    "# Threshold for cost-effectiveness\n",
    "threshold = 5.0\n",
    "\n",
    "# Print results\n",
    "print(f\"Completion rate (Test group): {completion_rate_test:.2%}\")\n",
    "print(f\"Completion rate (Control group): {completion_rate_control:.2%}\")\n",
    "print(f\"Percentage increase in completion rate: {increase_percentage:.2f}%\")\n",
    "\n",
    "# Cost-effectiveness check\n",
    "if increase_percentage >= threshold:\n",
    "    print(f\"The increase in completion rate meets or exceeds the {threshold}% threshold. The new design is cost-effective.\")\n",
    "else:\n",
    "    print(f\"The increase in completion rate does not meet the {threshold}% threshold. The new design may not be cost-effective.\")"
   ]
  },
  {
   "cell_type": "markdown",
   "metadata": {},
   "source": [
    "### Merging clean client profile dataframe"
   ]
  },
  {
   "cell_type": "code",
   "execution_count": 49,
   "metadata": {},
   "outputs": [],
   "source": [
    "df_cleaned = pd.read_csv('cleaned_data.csv')"
   ]
  },
  {
   "cell_type": "code",
   "execution_count": 50,
   "metadata": {},
   "outputs": [],
   "source": [
    "df_full_test = pd.merge(df_test, df_cleaned, on='client_id', how='inner')"
   ]
  },
  {
   "cell_type": "code",
   "execution_count": 51,
   "metadata": {},
   "outputs": [
    {
     "data": {
      "text/html": [
       "<div>\n",
       "<style scoped>\n",
       "    .dataframe tbody tr th:only-of-type {\n",
       "        vertical-align: middle;\n",
       "    }\n",
       "\n",
       "    .dataframe tbody tr th {\n",
       "        vertical-align: top;\n",
       "    }\n",
       "\n",
       "    .dataframe thead th {\n",
       "        text-align: right;\n",
       "    }\n",
       "</style>\n",
       "<table border=\"1\" class=\"dataframe\">\n",
       "  <thead>\n",
       "    <tr style=\"text-align: right;\">\n",
       "      <th></th>\n",
       "      <th>client_id</th>\n",
       "      <th>client_age</th>\n",
       "      <th>num_accounts</th>\n",
       "      <th>balance</th>\n",
       "      <th>calls_last_6_month</th>\n",
       "      <th>log_on_last_6_month</th>\n",
       "      <th>client_tenure_years</th>\n",
       "    </tr>\n",
       "  </thead>\n",
       "  <tbody>\n",
       "    <tr>\n",
       "      <th>0</th>\n",
       "      <td>555</td>\n",
       "      <td>29.5</td>\n",
       "      <td>2.0</td>\n",
       "      <td>25454.66</td>\n",
       "      <td>2.0</td>\n",
       "      <td>6.0</td>\n",
       "      <td>3.83</td>\n",
       "    </tr>\n",
       "    <tr>\n",
       "      <th>1</th>\n",
       "      <td>647</td>\n",
       "      <td>57.5</td>\n",
       "      <td>2.0</td>\n",
       "      <td>30525.80</td>\n",
       "      <td>0.0</td>\n",
       "      <td>4.0</td>\n",
       "      <td>12.58</td>\n",
       "    </tr>\n",
       "    <tr>\n",
       "      <th>2</th>\n",
       "      <td>934</td>\n",
       "      <td>51.0</td>\n",
       "      <td>2.0</td>\n",
       "      <td>32522.88</td>\n",
       "      <td>0.0</td>\n",
       "      <td>3.0</td>\n",
       "      <td>9.08</td>\n",
       "    </tr>\n",
       "    <tr>\n",
       "      <th>3</th>\n",
       "      <td>1336</td>\n",
       "      <td>42.0</td>\n",
       "      <td>4.0</td>\n",
       "      <td>130537.18</td>\n",
       "      <td>6.0</td>\n",
       "      <td>9.0</td>\n",
       "      <td>48.00</td>\n",
       "    </tr>\n",
       "    <tr>\n",
       "      <th>4</th>\n",
       "      <td>1346</td>\n",
       "      <td>46.0</td>\n",
       "      <td>2.0</td>\n",
       "      <td>822512.91</td>\n",
       "      <td>3.0</td>\n",
       "      <td>6.0</td>\n",
       "      <td>14.75</td>\n",
       "    </tr>\n",
       "    <tr>\n",
       "      <th>...</th>\n",
       "      <td>...</td>\n",
       "      <td>...</td>\n",
       "      <td>...</td>\n",
       "      <td>...</td>\n",
       "      <td>...</td>\n",
       "      <td>...</td>\n",
       "      <td>...</td>\n",
       "    </tr>\n",
       "    <tr>\n",
       "      <th>26956</th>\n",
       "      <td>9999150</td>\n",
       "      <td>30.0</td>\n",
       "      <td>3.0</td>\n",
       "      <td>97141.71</td>\n",
       "      <td>6.0</td>\n",
       "      <td>9.0</td>\n",
       "      <td>5.50</td>\n",
       "    </tr>\n",
       "    <tr>\n",
       "      <th>26957</th>\n",
       "      <td>9999400</td>\n",
       "      <td>28.5</td>\n",
       "      <td>2.0</td>\n",
       "      <td>51787.04</td>\n",
       "      <td>0.0</td>\n",
       "      <td>3.0</td>\n",
       "      <td>7.17</td>\n",
       "    </tr>\n",
       "    <tr>\n",
       "      <th>26958</th>\n",
       "      <td>9999626</td>\n",
       "      <td>35.0</td>\n",
       "      <td>2.0</td>\n",
       "      <td>36642.88</td>\n",
       "      <td>6.0</td>\n",
       "      <td>9.0</td>\n",
       "      <td>9.42</td>\n",
       "    </tr>\n",
       "    <tr>\n",
       "      <th>26959</th>\n",
       "      <td>9999729</td>\n",
       "      <td>31.0</td>\n",
       "      <td>3.0</td>\n",
       "      <td>107059.74</td>\n",
       "      <td>6.0</td>\n",
       "      <td>9.0</td>\n",
       "      <td>10.33</td>\n",
       "    </tr>\n",
       "    <tr>\n",
       "      <th>26960</th>\n",
       "      <td>9999832</td>\n",
       "      <td>49.0</td>\n",
       "      <td>2.0</td>\n",
       "      <td>431887.61</td>\n",
       "      <td>1.0</td>\n",
       "      <td>4.0</td>\n",
       "      <td>23.42</td>\n",
       "    </tr>\n",
       "  </tbody>\n",
       "</table>\n",
       "<p>26961 rows × 7 columns</p>\n",
       "</div>"
      ],
      "text/plain": [
       "       client_id  client_age  num_accounts    balance  calls_last_6_month  \\\n",
       "0            555        29.5           2.0   25454.66                 2.0   \n",
       "1            647        57.5           2.0   30525.80                 0.0   \n",
       "2            934        51.0           2.0   32522.88                 0.0   \n",
       "3           1336        42.0           4.0  130537.18                 6.0   \n",
       "4           1346        46.0           2.0  822512.91                 3.0   \n",
       "...          ...         ...           ...        ...                 ...   \n",
       "26956    9999150        30.0           3.0   97141.71                 6.0   \n",
       "26957    9999400        28.5           2.0   51787.04                 0.0   \n",
       "26958    9999626        35.0           2.0   36642.88                 6.0   \n",
       "26959    9999729        31.0           3.0  107059.74                 6.0   \n",
       "26960    9999832        49.0           2.0  431887.61                 1.0   \n",
       "\n",
       "       log_on_last_6_month  client_tenure_years  \n",
       "0                      6.0                 3.83  \n",
       "1                      4.0                12.58  \n",
       "2                      3.0                 9.08  \n",
       "3                      9.0                48.00  \n",
       "4                      6.0                14.75  \n",
       "...                    ...                  ...  \n",
       "26956                  9.0                 5.50  \n",
       "26957                  3.0                 7.17  \n",
       "26958                  9.0                 9.42  \n",
       "26959                  9.0                10.33  \n",
       "26960                  4.0                23.42  \n",
       "\n",
       "[26961 rows x 7 columns]"
      ]
     },
     "execution_count": 51,
     "metadata": {},
     "output_type": "execute_result"
    }
   ],
   "source": [
    "df_test_grouped = df_full_test.groupby('client_id').agg({\n",
    "    'client_age': 'mean',  # Calculate mean age\n",
    "    'num_accounts': 'mean',\n",
    "    'balance': 'mean',\n",
    "    'calls_last_6_month': 'mean',\n",
    "    'log_on_last_6_month': 'mean',\n",
    "    'client_tenure_years': 'mean'\n",
    "}).reset_index()\n",
    "\n",
    "df_test_grouped"
   ]
  },
  {
   "cell_type": "code",
   "execution_count": 52,
   "metadata": {},
   "outputs": [],
   "source": [
    "df_full_control = pd.merge(df_control, df_cleaned, on='client_id', how='inner')"
   ]
  },
  {
   "cell_type": "code",
   "execution_count": 53,
   "metadata": {},
   "outputs": [
    {
     "data": {
      "text/html": [
       "<div>\n",
       "<style scoped>\n",
       "    .dataframe tbody tr th:only-of-type {\n",
       "        vertical-align: middle;\n",
       "    }\n",
       "\n",
       "    .dataframe tbody tr th {\n",
       "        vertical-align: top;\n",
       "    }\n",
       "\n",
       "    .dataframe thead th {\n",
       "        text-align: right;\n",
       "    }\n",
       "</style>\n",
       "<table border=\"1\" class=\"dataframe\">\n",
       "  <thead>\n",
       "    <tr style=\"text-align: right;\">\n",
       "      <th></th>\n",
       "      <th>client_id</th>\n",
       "      <th>client_age</th>\n",
       "      <th>num_accounts</th>\n",
       "      <th>balance</th>\n",
       "      <th>calls_last_6_month</th>\n",
       "      <th>log_on_last_6_month</th>\n",
       "      <th>client_tenure_years</th>\n",
       "    </tr>\n",
       "  </thead>\n",
       "  <tbody>\n",
       "    <tr>\n",
       "      <th>0</th>\n",
       "      <td>1028</td>\n",
       "      <td>36.0</td>\n",
       "      <td>3.0</td>\n",
       "      <td>103520.22</td>\n",
       "      <td>1.0</td>\n",
       "      <td>4.0</td>\n",
       "      <td>12.08</td>\n",
       "    </tr>\n",
       "    <tr>\n",
       "      <th>1</th>\n",
       "      <td>1104</td>\n",
       "      <td>48.0</td>\n",
       "      <td>3.0</td>\n",
       "      <td>154643.94</td>\n",
       "      <td>6.0</td>\n",
       "      <td>9.0</td>\n",
       "      <td>5.50</td>\n",
       "    </tr>\n",
       "    <tr>\n",
       "      <th>2</th>\n",
       "      <td>1186</td>\n",
       "      <td>22.0</td>\n",
       "      <td>2.0</td>\n",
       "      <td>31662.52</td>\n",
       "      <td>0.0</td>\n",
       "      <td>3.0</td>\n",
       "      <td>8.25</td>\n",
       "    </tr>\n",
       "    <tr>\n",
       "      <th>3</th>\n",
       "      <td>1195</td>\n",
       "      <td>54.5</td>\n",
       "      <td>2.0</td>\n",
       "      <td>28457.96</td>\n",
       "      <td>2.0</td>\n",
       "      <td>5.0</td>\n",
       "      <td>21.83</td>\n",
       "    </tr>\n",
       "    <tr>\n",
       "      <th>4</th>\n",
       "      <td>1197</td>\n",
       "      <td>28.5</td>\n",
       "      <td>5.0</td>\n",
       "      <td>177062.14</td>\n",
       "      <td>5.0</td>\n",
       "      <td>8.0</td>\n",
       "      <td>7.08</td>\n",
       "    </tr>\n",
       "    <tr>\n",
       "      <th>...</th>\n",
       "      <td>...</td>\n",
       "      <td>...</td>\n",
       "      <td>...</td>\n",
       "      <td>...</td>\n",
       "      <td>...</td>\n",
       "      <td>...</td>\n",
       "      <td>...</td>\n",
       "    </tr>\n",
       "    <tr>\n",
       "      <th>23521</th>\n",
       "      <td>9997125</td>\n",
       "      <td>57.5</td>\n",
       "      <td>2.0</td>\n",
       "      <td>38151.27</td>\n",
       "      <td>0.0</td>\n",
       "      <td>3.0</td>\n",
       "      <td>5.83</td>\n",
       "    </tr>\n",
       "    <tr>\n",
       "      <th>23522</th>\n",
       "      <td>9997391</td>\n",
       "      <td>60.0</td>\n",
       "      <td>2.0</td>\n",
       "      <td>77291.01</td>\n",
       "      <td>6.0</td>\n",
       "      <td>9.0</td>\n",
       "      <td>4.33</td>\n",
       "    </tr>\n",
       "    <tr>\n",
       "      <th>23523</th>\n",
       "      <td>9997470</td>\n",
       "      <td>36.0</td>\n",
       "      <td>2.0</td>\n",
       "      <td>53543.03</td>\n",
       "      <td>0.0</td>\n",
       "      <td>3.0</td>\n",
       "      <td>6.83</td>\n",
       "    </tr>\n",
       "    <tr>\n",
       "      <th>23524</th>\n",
       "      <td>9998346</td>\n",
       "      <td>61.5</td>\n",
       "      <td>2.0</td>\n",
       "      <td>149881.38</td>\n",
       "      <td>6.0</td>\n",
       "      <td>9.0</td>\n",
       "      <td>50.17</td>\n",
       "    </tr>\n",
       "    <tr>\n",
       "      <th>23525</th>\n",
       "      <td>9998921</td>\n",
       "      <td>38.0</td>\n",
       "      <td>2.0</td>\n",
       "      <td>30644.10</td>\n",
       "      <td>4.0</td>\n",
       "      <td>7.0</td>\n",
       "      <td>15.75</td>\n",
       "    </tr>\n",
       "  </tbody>\n",
       "</table>\n",
       "<p>23526 rows × 7 columns</p>\n",
       "</div>"
      ],
      "text/plain": [
       "       client_id  client_age  num_accounts    balance  calls_last_6_month  \\\n",
       "0           1028        36.0           3.0  103520.22                 1.0   \n",
       "1           1104        48.0           3.0  154643.94                 6.0   \n",
       "2           1186        22.0           2.0   31662.52                 0.0   \n",
       "3           1195        54.5           2.0   28457.96                 2.0   \n",
       "4           1197        28.5           5.0  177062.14                 5.0   \n",
       "...          ...         ...           ...        ...                 ...   \n",
       "23521    9997125        57.5           2.0   38151.27                 0.0   \n",
       "23522    9997391        60.0           2.0   77291.01                 6.0   \n",
       "23523    9997470        36.0           2.0   53543.03                 0.0   \n",
       "23524    9998346        61.5           2.0  149881.38                 6.0   \n",
       "23525    9998921        38.0           2.0   30644.10                 4.0   \n",
       "\n",
       "       log_on_last_6_month  client_tenure_years  \n",
       "0                      4.0                12.08  \n",
       "1                      9.0                 5.50  \n",
       "2                      3.0                 8.25  \n",
       "3                      5.0                21.83  \n",
       "4                      8.0                 7.08  \n",
       "...                    ...                  ...  \n",
       "23521                  3.0                 5.83  \n",
       "23522                  9.0                 4.33  \n",
       "23523                  3.0                 6.83  \n",
       "23524                  9.0                50.17  \n",
       "23525                  7.0                15.75  \n",
       "\n",
       "[23526 rows x 7 columns]"
      ]
     },
     "execution_count": 53,
     "metadata": {},
     "output_type": "execute_result"
    }
   ],
   "source": [
    "df_control_grouped = df_full_control.groupby('client_id').agg({\n",
    "    'client_age': 'mean',  # Calculate mean age\n",
    "    'num_accounts': 'mean',\n",
    "    'balance': 'mean',\n",
    "    'calls_last_6_month': 'mean',\n",
    "    'log_on_last_6_month': 'mean',\n",
    "    'client_tenure_years': 'mean'\n",
    "}).reset_index()\n",
    "\n",
    "df_control_grouped"
   ]
  },
  {
   "cell_type": "markdown",
   "metadata": {},
   "source": [
    "### Average Age of Clients"
   ]
  },
  {
   "cell_type": "code",
   "execution_count": 54,
   "metadata": {},
   "outputs": [],
   "source": [
    "## (H0): The average age of clients engaging with the new process (Test group)\n",
    "## is the same as the average age of clients engaging with the old process (Control group).\n",
    "\n",
    "## (H1): The average age of clients engaging with the new process (Test group)\n",
    "## is different from the average age of clients engaging with the old process (Control group)."
   ]
  },
  {
   "cell_type": "code",
   "execution_count": 55,
   "metadata": {},
   "outputs": [],
   "source": [
    "import scipy.stats as stats"
   ]
  },
  {
   "cell_type": "code",
   "execution_count": 56,
   "metadata": {},
   "outputs": [],
   "source": [
    "age_test = df_test_grouped['client_age']\n",
    "age_control = df_control_grouped['client_age']"
   ]
  },
  {
   "cell_type": "code",
   "execution_count": 57,
   "metadata": {},
   "outputs": [
    {
     "name": "stdout",
     "output_type": "stream",
     "text": [
      "We reject the null hypotesis\n"
     ]
    },
    {
     "data": {
      "text/plain": [
       "(-2.416068061200627, 0.015692719461388675)"
      ]
     },
     "execution_count": 57,
     "metadata": {},
     "output_type": "execute_result"
    }
   ],
   "source": [
    "stat, p_value = stats.ttest_ind(age_test,age_control, equal_var=False)\n",
    "#H0= Mu df1 = Mu df2 , H1= Mu df1 =! Mu df2\n",
    "if p_value > alpha:\n",
    "    print(\"We are not able to reject the null hypothesis\")\n",
    "else:\n",
    "    print(\"We reject the null hypotesis\")\n",
    "\n",
    "stat, p_value"
   ]
  },
  {
   "cell_type": "code",
   "execution_count": 58,
   "metadata": {},
   "outputs": [
    {
     "name": "stdout",
     "output_type": "stream",
     "text": [
      "Test average age: 47.164 \n",
      "Control average age: 47.498 \n"
     ]
    }
   ],
   "source": [
    "age_test = round(df_test_grouped['client_age'].mean(),3)\n",
    "age_control = round(df_control_grouped['client_age'].mean(),3)\n",
    "\n",
    "print(f\"Test average age: {age_test} \")\n",
    "print(f\"Control average age: {age_control} \")"
   ]
  },
  {
   "cell_type": "markdown",
   "metadata": {},
   "source": [
    "### Calls to Customer Service"
   ]
  },
  {
   "cell_type": "code",
   "execution_count": 59,
   "metadata": {},
   "outputs": [],
   "source": [
    "## H0: Number of calls to customer service in the last six month made by the test group is equal to the number of calls made by the control group\n",
    "\n",
    "## H1: Number of calls to customer service in the last six month made by the test group is different fron the number of calls made by the control group."
   ]
  },
  {
   "cell_type": "code",
   "execution_count": 60,
   "metadata": {},
   "outputs": [
    {
     "name": "stdout",
     "output_type": "stream",
     "text": [
      "Average calls in last 6 months (Test group): 3.061941322651237\n",
      "Average calls in last 6 months (Control group): 3.1291762305534303\n"
     ]
    }
   ],
   "source": [
    "mean_calls_test = df_test_grouped['calls_last_6_month'].mean()\n",
    "mean_calls_control = df_control_grouped['calls_last_6_month'].mean()\n",
    "\n",
    "print(f\"Average calls in last 6 months (Test group): {mean_calls_test}\")\n",
    "print(f\"Average calls in last 6 months (Control group): {mean_calls_control}\")"
   ]
  },
  {
   "cell_type": "code",
   "execution_count": 61,
   "metadata": {},
   "outputs": [],
   "source": [
    "calls_test = df_test_grouped['calls_last_6_month']\n",
    "calls_control = df_control_grouped['calls_last_6_month']"
   ]
  },
  {
   "cell_type": "code",
   "execution_count": 62,
   "metadata": {},
   "outputs": [
    {
     "name": "stdout",
     "output_type": "stream",
     "text": [
      "We reject the null hypothesis\n"
     ]
    },
    {
     "data": {
      "text/plain": [
       "(-3.4452953903391514, 0.0005709074645240968)"
      ]
     },
     "execution_count": 62,
     "metadata": {},
     "output_type": "execute_result"
    }
   ],
   "source": [
    "stat, p_value = stats.ttest_ind(calls_test,calls_control, equal_var=False)\n",
    "#H0= Mu calls_test = Mu calls_control , H1= Mu calls_test =! Mu calls_control\n",
    "if p_value > alpha:\n",
    "    print(\"We are not able to reject the null hypothesis\")\n",
    "else:\n",
    "    print(\"We reject the null hypothesis\")\n",
    "\n",
    "stat, p_value"
   ]
  },
  {
   "cell_type": "markdown",
   "metadata": {},
   "source": [
    "### Client Tenure"
   ]
  },
  {
   "cell_type": "markdown",
   "metadata": {},
   "source": [
    "#### Hypothesis: Clients with longer tenure are more likely to engage with the new process."
   ]
  },
  {
   "cell_type": "code",
   "execution_count": 63,
   "metadata": {},
   "outputs": [],
   "source": [
    "## H0: The average client tenure of clients engaging with the new process (Test group) is the same as the average client tenure of clients engaging with the old process (Control group).\n",
    "## H1: The average client tenure of clients engaging with the new process (Test group) is different from the average client tenure of clients engaging with the old process (Control group)."
   ]
  },
  {
   "cell_type": "markdown",
   "metadata": {},
   "source": [
    "#### Engagment means in this context client who completed the whole steps"
   ]
  },
  {
   "cell_type": "code",
   "execution_count": 64,
   "metadata": {},
   "outputs": [],
   "source": [
    "df_very_full_test = pd.merge(df_test_grouped, df_final_web_data, on='client_id', how='inner')"
   ]
  },
  {
   "cell_type": "code",
   "execution_count": 65,
   "metadata": {},
   "outputs": [],
   "source": [
    "df_very_full_control = pd.merge(df_control_grouped, df_final_web_data, on='client_id', how='inner')"
   ]
  },
  {
   "cell_type": "code",
   "execution_count": 66,
   "metadata": {},
   "outputs": [],
   "source": [
    "# Filter for clients who reached the 'confirm' step\n",
    "df_completed_test = df_very_full_test[df_very_full_test['process_step'] == 'confirm']\n",
    "df_completed_control = df_very_full_control[df_very_full_control['process_step'] == 'confirm']"
   ]
  },
  {
   "cell_type": "code",
   "execution_count": 67,
   "metadata": {},
   "outputs": [],
   "source": [
    "# Group by client_id and calculate the average tenure for each client\n",
    "df_completed_test_grouped = df_completed_test.groupby('client_id')['client_tenure_years'].mean().reset_index()\n",
    "df_completed_control_grouped = df_completed_control.groupby('client_id')['client_tenure_years'].mean().reset_index()"
   ]
  },
  {
   "cell_type": "code",
   "execution_count": 68,
   "metadata": {},
   "outputs": [],
   "source": [
    "# Extracting the client tenure for both groups\n",
    "tenure_test = df_completed_test_grouped['client_tenure_years']\n",
    "tenure_control = df_completed_control_grouped['client_tenure_years']"
   ]
  },
  {
   "cell_type": "code",
   "execution_count": 69,
   "metadata": {},
   "outputs": [
    {
     "name": "stdout",
     "output_type": "stream",
     "text": [
      "We are not able to reject the null hypothesis\n"
     ]
    },
    {
     "data": {
      "text/plain": [
       "(-1.2597075546384413, 0.20778382978152998)"
      ]
     },
     "execution_count": 69,
     "metadata": {},
     "output_type": "execute_result"
    }
   ],
   "source": [
    "stat, p_value = stats.ttest_ind(tenure_test,tenure_control, equal_var=False)\n",
    "#H0= Mu tenure_test = Mu tenure_control , H1= Mu tenure_test =! Mu tenure_control\n",
    "if p_value > alpha:\n",
    "    print(\"We are not able to reject the null hypothesis\")\n",
    "else:\n",
    "    print(\"We reject the null hypotesis\")\n",
    "\n",
    "stat, p_value"
   ]
  },
  {
   "cell_type": "code",
   "execution_count": 70,
   "metadata": {},
   "outputs": [
    {
     "name": "stdout",
     "output_type": "stream",
     "text": [
      "Average tenure years (Test group): 12.447668879134996\n",
      "Average tenure years (Control group): 12.541512185636506\n"
     ]
    }
   ],
   "source": [
    "tenure_test = df_completed_test_grouped['client_tenure_years'].mean()\n",
    "tenure_control = df_completed_control_grouped['client_tenure_years'].mean()\n",
    "\n",
    "print(f\"Average tenure years (Test group): {tenure_test}\")\n",
    "print(f\"Average tenure years (Control group): {tenure_control}\")"
   ]
  },
  {
   "cell_type": "markdown",
   "metadata": {},
   "source": [
    "# Dataframe created for tableau"
   ]
  },
  {
   "cell_type": "code",
   "execution_count": 73,
   "metadata": {},
   "outputs": [],
   "source": [
    "# Sample data for Test and Control groups\n",
    "# df_test = pd.DataFrame(...)\n",
    "# df_control = pd.DataFrame(...)\n",
    "\n",
    "# Calculate the average time spent on each process_step for Test group\n",
    "df_test_sorted = df_test.sort_values(by=['client_id', 'visitor_id', 'visit_id', 'date_time'])\n",
    "df_test['next_date_time'] = df_test.groupby(['client_id', 'visitor_id', 'visit_id'])['date_time'].shift(-1)\n",
    "df_test['time_spent'] = (df_test['next_date_time'] - df_test['date_time']).dt.total_seconds()\n",
    "df_time_spent_test = df_test.dropna(subset=['time_spent'])\n",
    "avg_time_per_step_test = df_time_spent_test.groupby('process_step')['time_spent'].mean().round(2)\n",
    "avg_time_per_step_test_df = avg_time_per_step_test.reset_index()\n",
    "avg_time_per_step_test_df.columns = ['process_step', 'average_time_spent']\n",
    "avg_time_per_step_test_df['group'] = 'Test'\n",
    "\n",
    "# Calculate the average time spent on each process_step for Control group\n",
    "df_control_sorted = df_control.sort_values(by=['client_id', 'visitor_id', 'visit_id', 'date_time'])\n",
    "df_control['next_date_time'] = df_control.groupby(['client_id', 'visitor_id', 'visit_id'])['date_time'].shift(-1)\n",
    "df_control['time_spent'] = (df_control['next_date_time'] - df_control['date_time']).dt.total_seconds()\n",
    "df_time_spent_control = df_control.dropna(subset=['time_spent'])\n",
    "avg_time_per_step_control = df_time_spent_control.groupby('process_step')['time_spent'].mean().round(2)\n",
    "avg_time_per_step_control_df = avg_time_per_step_control.reset_index()\n",
    "avg_time_per_step_control_df.columns = ['process_step', 'average_time_spent']\n",
    "avg_time_per_step_control_df['group'] = 'Control'\n",
    "\n",
    "# Combine both DataFrames\n",
    "combined_df = pd.concat([avg_time_per_step_test_df, avg_time_per_step_control_df])\n",
    "\n",
    "# Save the combined DataFrame to a CSV file\n",
    "combined_df.to_csv('average_time_spent_combined.csv', index=False)"
   ]
  },
  {
   "cell_type": "code",
   "execution_count": 74,
   "metadata": {},
   "outputs": [],
   "source": [
    "# Ensure data is sorted by client_id, visitor_id, visit_id, and date_time\n",
    "df_test = df_test.sort_values(by=['client_id', 'visitor_id', 'visit_id', 'date_time'])\n",
    "df_control = df_control.sort_values(by=['client_id', 'visitor_id', 'visit_id', 'date_time'])\n",
    "\n",
    "\n",
    "def detect_errors(df):\n",
    "    # Shift the process_step to get the next step for each record\n",
    "    df['next_process_step'] = df.groupby(['client_id', 'visitor_id', 'visit_id'])['process_step'].shift(-1)\n",
    "    \n",
    "    # Define the order of steps\n",
    "    process_order = {'start': 0, 'step_1': 1, 'step_2': 2, 'step_3': 3, 'confirm': 4}\n",
    "    \n",
    "    # Map the steps to their order\n",
    "    df['process_step_order'] = df['process_step'].map(process_order)\n",
    "    df['next_process_step_order'] = df['next_process_step'].map(process_order)\n",
    "    \n",
    "    # Identify if there is a backward move\n",
    "    df['error'] = df['next_process_step_order'] < df['process_step_order']\n",
    "    \n",
    "    return df\n",
    "\n",
    "# Apply the function to both test and control groups\n",
    "df_test_with_errors = detect_errors(df_test)\n",
    "df_control_with_errors = detect_errors(df_control)\n",
    "\n",
    "# Count errors per process step for each group\n",
    "errors_test = df_test_with_errors.groupby('process_step')['error'].sum().reset_index()\n",
    "errors_test.columns = ['process_step', 'errors_test']\n",
    "\n",
    "errors_control = df_control_with_errors.groupby('process_step')['error'].sum().reset_index()\n",
    "errors_control.columns = ['process_step', 'errors_control']\n",
    "\n",
    "# Merge the errors data\n",
    "errors_combined = pd.merge(errors_test, errors_control, on='process_step', how='outer')\n",
    "\n",
    "# Save the combined errors data to a CSV file for Tableau\n",
    "errors_combined.to_csv('errors_combined.csv', index=False)\n"
   ]
  },
  {
   "cell_type": "code",
   "execution_count": 75,
   "metadata": {},
   "outputs": [
    {
     "data": {
      "text/html": [
       "<div>\n",
       "<style scoped>\n",
       "    .dataframe tbody tr th:only-of-type {\n",
       "        vertical-align: middle;\n",
       "    }\n",
       "\n",
       "    .dataframe tbody tr th {\n",
       "        vertical-align: top;\n",
       "    }\n",
       "\n",
       "    .dataframe thead th {\n",
       "        text-align: right;\n",
       "    }\n",
       "</style>\n",
       "<table border=\"1\" class=\"dataframe\">\n",
       "  <thead>\n",
       "    <tr style=\"text-align: right;\">\n",
       "      <th></th>\n",
       "      <th>process_step</th>\n",
       "      <th>errors_test</th>\n",
       "      <th>errors_control</th>\n",
       "    </tr>\n",
       "  </thead>\n",
       "  <tbody>\n",
       "    <tr>\n",
       "      <th>0</th>\n",
       "      <td>confirm</td>\n",
       "      <td>305</td>\n",
       "      <td>681</td>\n",
       "    </tr>\n",
       "    <tr>\n",
       "      <th>1</th>\n",
       "      <td>start</td>\n",
       "      <td>0</td>\n",
       "      <td>0</td>\n",
       "    </tr>\n",
       "    <tr>\n",
       "      <th>2</th>\n",
       "      <td>step_1</td>\n",
       "      <td>6404</td>\n",
       "      <td>2490</td>\n",
       "    </tr>\n",
       "    <tr>\n",
       "      <th>3</th>\n",
       "      <td>step_2</td>\n",
       "      <td>4780</td>\n",
       "      <td>2164</td>\n",
       "    </tr>\n",
       "    <tr>\n",
       "      <th>4</th>\n",
       "      <td>step_3</td>\n",
       "      <td>4743</td>\n",
       "      <td>4246</td>\n",
       "    </tr>\n",
       "  </tbody>\n",
       "</table>\n",
       "</div>"
      ],
      "text/plain": [
       "  process_step  errors_test  errors_control\n",
       "0      confirm          305             681\n",
       "1        start            0               0\n",
       "2       step_1         6404            2490\n",
       "3       step_2         4780            2164\n",
       "4       step_3         4743            4246"
      ]
     },
     "execution_count": 75,
     "metadata": {},
     "output_type": "execute_result"
    }
   ],
   "source": [
    "errors_combined"
   ]
  }
 ],
 "metadata": {
  "kernelspec": {
   "display_name": "base",
   "language": "python",
   "name": "python3"
  },
  "language_info": {
   "codemirror_mode": {
    "name": "ipython",
    "version": 3
   },
   "file_extension": ".py",
   "mimetype": "text/x-python",
   "name": "python",
   "nbconvert_exporter": "python",
   "pygments_lexer": "ipython3",
   "version": "3.11.7"
  }
 },
 "nbformat": 4,
 "nbformat_minor": 2
}
